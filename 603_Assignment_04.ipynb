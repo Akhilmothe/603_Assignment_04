{
 "cells": [
  {
   "cell_type": "markdown",
   "id": "e19702bc",
   "metadata": {},
   "source": [
    "## Tracking the NASA Satellite"
   ]
  },
  {
   "cell_type": "markdown",
   "id": "964081f7",
   "metadata": {},
   "source": [
    "For this assignment, we will be working on streaming data which is satellite location coordinates being provided by NASA.\n",
    "\n",
    "The data is in the following format:\n",
    "\n",
    "{\"timestamp\": 1667492679, \"iss_position\": {\"longitude\": \"-56.8155\", \"latitude\": \"-42.5979\"}, \"message\": \"success\"}\n",
    "\n",
    "Data can be accessed from http://api.open-notify.org/iss-now.json\n",
    "\n",
    "The link can be thought of as the producer as it will do producer job.\n",
    "\n",
    "Write the consumer to connect and fetch data. In the consumer, you have to write the code which takes the data from producer and uses the location coordinates to plot the satellite location on the world map.\n",
    "\n",
    "The streaming interval should be 5 seconds. The producer should run for an hour. The graph will show the satellite tracking for 1 hr.\n",
    "\n",
    "P.S.: Keeping in mind that satellite travels very fast, the graph will have more than half of map covered with satellite track"
   ]
  },
  {
   "cell_type": "markdown",
   "id": "1e542683",
   "metadata": {},
   "source": [
    "## Execution"
   ]
  },
  {
   "cell_type": "markdown",
   "id": "97654a11",
   "metadata": {},
   "source": [
    "1. It establishes a connection to the ISS location API and continuously updates the ISS position for one hour, collecting latitude and longitude values.\n",
    "\n",
    "2. These latitude and longitude values are used to plot markers on a custom map created with Folium, displaying the ISS's location in real-time.\n",
    "\n",
    "3. To enhance the map, each marker is equipped with a tooltip that provides latitude and longitude information when hovered over.\n",
    "\n",
    "4. The collected latitude and longitude data are simultaneously stored in a Pandas DataFrame and saved to a CSV file for future analysis.\n",
    "\n",
    "5. Finally, the code generates an HTML map and an interactive display of the map, allowing users to visually track the ISS's journey and access its location data."
   ]
  },
  {
   "cell_type": "code",
   "execution_count": 1,
   "id": "c1d565e7",
   "metadata": {},
   "outputs": [],
   "source": [
    "#Importing the required libraries\n",
    "import requests\n",
    "import time\n",
    "import folium\n",
    "from IPython.display import HTML\n",
    "import pandas as pd  "
   ]
  },
  {
   "cell_type": "code",
   "execution_count": 2,
   "id": "f67d28b1",
   "metadata": {},
   "outputs": [],
   "source": [
    "#Creating an empty DataFrame to store latitude and longitude values\n",
    "iss_data_df = pd.DataFrame(columns=[\"Latitude\", \"Longitude\"])"
   ]
  },
  {
   "cell_type": "code",
   "execution_count": 3,
   "id": "0819dec1",
   "metadata": {},
   "outputs": [],
   "source": [
    "#Creating a Function to fetch data from the API and plot satellite location on a map\n",
    "def fetch_and_plot_iss_location_for_one_hour():\n",
    "    \n",
    "    global iss_data_df  #Declaring the DataFrame as a global variable\n",
    "\n",
    "    #Creating a Folium map with custom boundaries and zoom level\n",
    "    iss_map = folium.Map(location=[0, 0], zoom_start=3, min_lat=-90, max_lat=90, min_lon=-180, max_lon=180)\n",
    "\n",
    "    #Fetching data and plot for 1 hour (3600 seconds)\n",
    "    end_time = time.time() + 3600\n",
    "    previous_coords = None\n",
    "    data_to_append = []\n",
    "\n",
    "    while time.time() < end_time:\n",
    "        try:\n",
    "            #Fetching data from the API\n",
    "            response = requests.get(\"http://api.open-notify.org/iss-now.json\")\n",
    "            data = response.json()\n",
    "\n",
    "            #Extracting latitude and longitude\n",
    "            latitude = float(data[\"iss_position\"][\"latitude\"])\n",
    "            longitude = float(data[\"iss_position\"][\"longitude\"])\n",
    "\n",
    "            #Adding a marker for the current ISS location with a tooltip\n",
    "            folium.Marker(\n",
    "                location=[latitude, longitude],\n",
    "                tooltip=f\"Lat: {latitude}, Lon: {longitude}\"  #Tooltip with latitude and longitude\n",
    "            ).add_to(iss_map)\n",
    "\n",
    "            #Connecting the current location to the previous location with a line\n",
    "            if previous_coords:\n",
    "                folium.PolyLine([previous_coords, [latitude, longitude]], color=\"blue\").add_to(iss_map)\n",
    "\n",
    "            previous_coords = [latitude, longitude]\n",
    "\n",
    "            #Appending the latitude and longitude values to the data_to_append list\n",
    "            data_to_append.append({\"Latitude\": latitude, \"Longitude\": longitude})\n",
    "\n",
    "            #Sleeping for 5 seconds before fetching the next data\n",
    "            time.sleep(5)\n",
    "\n",
    "        except Exception as e:\n",
    "            print(f\"Error: {str(e)}\")\n",
    "\n",
    "    #Concatenatating the data_to_append list into the DataFrame\n",
    "    iss_data_df = pd.concat([iss_data_df, pd.DataFrame(data_to_append)], ignore_index=True)\n",
    "\n",
    "    #Saving the map as an HTML file\n",
    "    iss_map.save(\"iss_location_tracking.html\")\n",
    "\n",
    "    print(\"ISS location tracking for 1 hour is plotted on the map. Check iss_location_tracking.html for the map.\")\n"
   ]
  },
  {
   "cell_type": "code",
   "execution_count": 4,
   "id": "92c44c18",
   "metadata": {},
   "outputs": [
    {
     "name": "stdout",
     "output_type": "stream",
     "text": [
      "Error: ('Connection aborted.', TimeoutError(10060, 'A connection attempt failed because the connected party did not properly respond after a period of time, or established connection failed because connected host has failed to respond', None, 10060, None))\n",
      "ISS location tracking for 1 hour is plotted on the map. Check iss_location_tracking.html for the map.\n"
     ]
    }
   ],
   "source": [
    "#Running the function to fetch and plot the ISS location for 1 hour\n",
    "fetch_and_plot_iss_location_for_one_hour()"
   ]
  },
  {
   "cell_type": "code",
   "execution_count": 5,
   "id": "c91adf62",
   "metadata": {},
   "outputs": [],
   "source": [
    "#Saving the DataFrame to a CSV file\n",
    "iss_data_df.to_csv(\"iss_location_data.csv\")"
   ]
  },
  {
   "cell_type": "code",
   "execution_count": 6,
   "id": "e6ac317f",
   "metadata": {},
   "outputs": [
    {
     "name": "stderr",
     "output_type": "stream",
     "text": [
      "C:\\Users\\AKHIL MOTHE\\Anaconda3\\lib\\site-packages\\IPython\\core\\display.py:419: UserWarning: Consider using IPython.display.IFrame instead\n",
      "  warnings.warn(\"Consider using IPython.display.IFrame instead\")\n"
     ]
    },
    {
     "data": {
      "text/html": [
       "<iframe src=\"iss_location_tracking.html\" width=\"800\" height=\"600\"></iframe>"
      ],
      "text/plain": [
       "<IPython.core.display.HTML object>"
      ]
     },
     "execution_count": 6,
     "metadata": {},
     "output_type": "execute_result"
    }
   ],
   "source": [
    "#Displaying the generated HTML map as an image\n",
    "HTML('<iframe src=\"iss_location_tracking.html\" width=\"800\" height=\"600\"></iframe>')"
   ]
  }
 ],
 "metadata": {
  "kernelspec": {
   "display_name": "Python 3 (ipykernel)",
   "language": "python",
   "name": "python3"
  },
  "language_info": {
   "codemirror_mode": {
    "name": "ipython",
    "version": 3
   },
   "file_extension": ".py",
   "mimetype": "text/x-python",
   "name": "python",
   "nbconvert_exporter": "python",
   "pygments_lexer": "ipython3",
   "version": "3.9.12"
  }
 },
 "nbformat": 4,
 "nbformat_minor": 5
}
